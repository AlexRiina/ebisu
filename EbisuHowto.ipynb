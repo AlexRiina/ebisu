{
 "cells": [
  {
   "cell_type": "markdown",
   "metadata": {},
   "source": [
    "# Ebisu howto\n",
    "A quick introduction to using the library to schedule spaced-repetition quizzes in a principled, probabilistically-grounded, Bayesian manner.\n",
    "\n",
    "See https://fasiha.github.io/ebisu/ for details!"
   ]
  },
  {
   "cell_type": "code",
   "execution_count": 1,
   "metadata": {
    "collapsed": true
   },
   "outputs": [],
   "source": [
    "import ebisu\n",
    "\n",
    "defaultModel = (4., 4., 24.) # alpha, beta, and half-life in hours"
   ]
  },
  {
   "cell_type": "markdown",
   "metadata": {},
   "source": [
    "Ebisu—this is what we’re here to learn about!\n",
    "\n",
    "Ebisu is a library that’s expected to be embedded inside quiz apps, to help schedule quizzes intelligently. It uses Bayesian statistics to let the app predict what the recall probability is for any fact that the student has learned, and to update that prediction based onthe results of a quiz.\n",
    "\n",
    "Ebisu uses three numbers to describe its belief about the time-evolution of each fact’s recall probability. Its API consumes them as a 3-tuple, and they are:\n",
    "\n",
    "- the first we call “alpha” and must be ≥ 2 (well, technically, ≥1 is the raw minimum but unless you’re a professor of statistics, keep it more than two);\n",
    "- the second is “beta” and also must be ≥ 2. These two numbers encode our belief about the distribution of recall probabilities at\n",
    "- the third element, which here is a half-life. This has units of time, and for this example, we’ll assume it’s in hours. It can be any positive float, but we choose the nice round number of 24 hours.\n",
    "\n",
    "For the nerds: alpha and beta parameterize a Beta distribution to describe our prior belief of the recall probability one half-life (one day) after a fact’s most recent quiz.\n",
    "\n",
    "For the rest of us: these three numbers mean we expect the recall probability for a newly-learned fact to be 50% after one day, but allow uncertainty: the recall probability after a day is “around” 42% to 58% (±1 standard deviation).\n",
    "\n",
    "---\n",
    "\n",
    "Now. Let’s create a mock database of facts. Say a student has learned two facts, one on the 19th at 2200 hours and another the next morning at 0900 hours."
   ]
  },
  {
   "cell_type": "code",
   "execution_count": 2,
   "metadata": {
    "collapsed": true
   },
   "outputs": [],
   "source": [
    "from datetime import datetime, timedelta\n",
    "date0 = datetime(2017, 4, 19, 22, 0, 0)\n",
    "\n",
    "database = [dict(factID=1, model=defaultModel, lastTest=date0),\n",
    "            dict(factID=2, model=defaultModel, lastTest=date0 + timedelta(hours=11))]"
   ]
  },
  {
   "cell_type": "markdown",
   "metadata": {},
   "source": [
    "After learning the second fact, at 0900, what does Ebisu expect each fact’s probability of recall to be, for each of the facts?"
   ]
  },
  {
   "cell_type": "code",
   "execution_count": 3,
   "metadata": {},
   "outputs": [
    {
     "name": "stdout",
     "output_type": "stream",
     "text": [
      "On 2017-04-20 09:06:00,\n",
      "Fact #1 probability of recall: 71.5%\n",
      "Fact #2 probability of recall: 99.7%\n"
     ]
    }
   ],
   "source": [
    "oneHour = timedelta(hours=1)\n",
    "\n",
    "now = date0 + timedelta(hours=11.1)\n",
    "print(\"On {},\".format(now))\n",
    "for row in database:\n",
    "    recall = ebisu.predictRecall(row['model'],\n",
    "                                 (now - row['lastTest']) / oneHour)\n",
    "    print(\"Fact #{} probability of recall: {:0.1f}%\".format(row['factID'], recall * 100))\n"
   ]
  },
  {
   "cell_type": "markdown",
   "metadata": {},
   "source": [
    "Both facts are expected to still be firmly in memory—especially the second one since it was just learned! So the quiz app doesn’t ask the student to review anything yet—though if she wanted to, the quiz app would pick the fact most in danger of being forgotten.\n",
    "\n",
    "Note how we used `ebisu.predictRecall`, which accepts\n",
    "- the current model, and\n",
    "- the time elapsed since this fact’s last quiz,\n",
    "\n",
    "and returns a `float`.\n",
    "\n",
    "…\n",
    "\n",
    "Now a few hours have elapsed. It’s just past midnight on the 21st and the student opens the quiz app."
   ]
  },
  {
   "cell_type": "code",
   "execution_count": 4,
   "metadata": {},
   "outputs": [
    {
     "name": "stdout",
     "output_type": "stream",
     "text": [
      "On 2017-04-21 00:30:00,\n",
      "Fact #1 probability of recall: 46.8%\n",
      "Fact #2 probability of recall: 63.0%\n"
     ]
    }
   ],
   "source": [
    "now = date0 + timedelta(hours=26.5)\n",
    "print(\"On {},\".format(now))\n",
    "for row in database:\n",
    "    recall = ebisu.predictRecall(row['model'],\n",
    "                                 (now - row['lastTest']) / oneHour)\n",
    "    print(\"Fact #{} probability of recall: {:0.1f}%\".format(row['factID'], recall * 100))"
   ]
  },
  {
   "cell_type": "markdown",
   "metadata": {},
   "source": [
    "Suppose the quiz app has been configured to quiz the student if the expected recall probability drops below 50%—which it did for fact 1! Let the result of the quiz be 1.0 if passed and 0.0 if failed."
   ]
  },
  {
   "cell_type": "code",
   "execution_count": 5,
   "metadata": {},
   "outputs": [
    {
     "name": "stdout",
     "output_type": "stream",
     "text": [
      "New model for fact #1: (4.537835518517152, 4.019172108949835, 26.5)\n"
     ]
    }
   ],
   "source": [
    "row = database[0] # review FIRST question\n",
    "\n",
    "result = True\n",
    "newModel = ebisu.updateRecall(row['model'],\n",
    "                              1.0 if result else 0.0,\n",
    "                              (now - row['lastTest']) / oneHour)\n",
    "print('New model for fact #1:', newModel)\n",
    "row['model'] = newModel\n",
    "row['lastTest'] = now"
   ]
  },
  {
   "cell_type": "markdown",
   "metadata": {},
   "source": [
    "Observe how `ebisu.updateRecall` takes\n",
    "- the current model,\n",
    "- the quiz result, and\n",
    "- the time elapsed since the last quiz,\n",
    "\n",
    "and returns a new model (the new 3-tuple of “alpha”, “beta” and time). We put the new model and the current timestamp into the database.\n",
    "\n",
    "Now. Suppose the student asks to review another fact—fact 2. It was learned just earlier that morning, and its recall probability is expected to be around 63%, but suppose the student fails this quiz, as sometimes happens."
   ]
  },
  {
   "cell_type": "code",
   "execution_count": 6,
   "metadata": {},
   "outputs": [
    {
     "name": "stdout",
     "output_type": "stream",
     "text": [
      "New model for fact #2: (6.641392217859198, 4.8903629621000055, 15.5)\n"
     ]
    }
   ],
   "source": [
    "row = database[1] # review SECOND question\n",
    "\n",
    "result = False\n",
    "newModel = ebisu.updateRecall(row['model'],\n",
    "                              1.0 if result else 0.0,\n",
    "                              (now - row['lastTest']) / oneHour)\n",
    "print('New model for fact #2:', newModel)\n",
    "row['model'] = newModel\n",
    "row['lastTest'] = now"
   ]
  },
  {
   "cell_type": "markdown",
   "metadata": {},
   "source": [
    "The new parameters for this fact differ from the previous one because (1) the student failed this quiz while she passed the other, (2) different amounts of time had elapsed since the respective facts were last seen.\n",
    "\n",
    "Ebisu provides a method to convert parameters to “expected half-life”. It is *not* an essential feature of the API and displaying it to the student will likely only distract them, but it is available:"
   ]
  },
  {
   "cell_type": "code",
   "execution_count": 7,
   "metadata": {},
   "outputs": [
    {
     "name": "stdout",
     "output_type": "stream",
     "text": [
      "Fact #1 has half-life of ≈29.2 hours\n",
      "Fact #2 has half-life of ≈19.8 hours\n"
     ]
    }
   ],
   "source": [
    "for row in database:\n",
    "    meanHalflife = ebisu.priorToHalflife(row['model'])\n",
    "    print(\"Fact #{} has half-life of ≈{:0.1f} hours\".format(row['factID'], meanHalflife))\n"
   ]
  },
  {
   "cell_type": "markdown",
   "metadata": {},
   "source": [
    "Note how the half-life (the time between quizzes for expected recall probability to drop to 50%) for the first question increased from 24 to 29 hours after the student got it right, while it decreased to 20 hours for the second when she got it wrong. Ebisu has incorporated the fact that the second fact had been learned not that long ago and should have been strong, and uses the surprising quiz result to strongly adjust its belief about its recall probability.\n",
    "\n",
    "This short notebook shows the major functions in the Ebisu API:\n",
    "- `ebisu.predictRecall` to find out the expected recall probability for a fact right now, and\n",
    "- `ebisu.updateRecall` to update those expectations when a new quiz result is available.\n",
    "- (`ebisu.priorToHalflife` is a helper function that can be used to gain insight into the algorithm but likely should not be used in production.)"
   ]
  }
 ],
 "metadata": {
  "kernelspec": {
   "display_name": "Python 3",
   "language": "python",
   "name": "python3"
  },
  "language_info": {
   "codemirror_mode": {
    "name": "ipython",
    "version": 3
   },
   "file_extension": ".py",
   "mimetype": "text/x-python",
   "name": "python",
   "nbconvert_exporter": "python",
   "pygments_lexer": "ipython3",
   "version": "3.6.4"
  }
 },
 "nbformat": 4,
 "nbformat_minor": 2
}
